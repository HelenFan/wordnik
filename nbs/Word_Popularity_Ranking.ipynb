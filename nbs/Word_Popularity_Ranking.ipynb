{
 "cells": [
  {
   "cell_type": "code",
   "execution_count": 1,
   "metadata": {},
   "outputs": [],
   "source": [
    "import pandas as pd\n",
    "import json\n",
    "import os\n",
    "import matplotlib.pyplot as plt\n",
    "from collections import Counter\n",
    "import numpy as np\n",
    "from nltk.stem.porter import *\n",
    "stemmer = PorterStemmer()\n",
    "from functools import reduce\n",
    "import random\n",
    "import math"
   ]
  },
  {
   "cell_type": "code",
   "execution_count": 2,
   "metadata": {},
   "outputs": [],
   "source": [
    "%matplotlib inline"
   ]
  },
  {
   "cell_type": "code",
   "execution_count": 3,
   "metadata": {
    "scrolled": true
   },
   "outputs": [],
   "source": [
    "with open('clean_data/allTaggedItems-06Jan2019.json', 'rb') as f:\n",
    "    tagitem = json.load(f)\n",
    "with open('clean_data/allTags-06Jan2019.json', 'rb') as f:\n",
    "    alltags = json.load(f)\n",
    "\n",
    "# todo: add lsited words too. But need to chop it into smaller files then process it\n",
    "# memory is not enough to host all 2m listed words..\n",
    "\n",
    "# todo: add user search and added in time word is looked up\n",
    "        \n",
    "    "
   ]
  },
  {
   "cell_type": "code",
   "execution_count": 4,
   "metadata": {},
   "outputs": [
    {
     "name": "stdout",
     "output_type": "stream",
     "text": [
      "Number of tags 23005\n"
     ]
    }
   ],
   "source": [
    "tag_cnt = {tag_e['name']: int(tag_e['count']) for tag_e in alltags}\n",
    "print('Number of tags', len(tag_cnt))"
   ]
  },
  {
   "cell_type": "code",
   "execution_count": 5,
   "metadata": {},
   "outputs": [
    {
     "data": {
      "text/plain": [
       "Text(0, 0.5, 'Number of tags')"
      ]
     },
     "execution_count": 5,
     "metadata": {},
     "output_type": "execute_result"
    },
    {
     "data": {
      "image/png": "[encoded data removed]",
      "text/plain": [
       "<Figure size 432x288 with 1 Axes>"
      ]
     },
     "metadata": {
      "needs_background": "light"
     },
     "output_type": "display_data"
    }
   ],
   "source": [
    "plt.hist(list(tag_cnt.values()), bins=500)\n",
    "plt.xlim((0, 150))\n",
    "plt.xlabel('Number of times each tags has been used')\n",
    "plt.ylabel('Number of tags')"
   ]
  },
  {
   "cell_type": "code",
   "execution_count": 6,
   "metadata": {},
   "outputs": [],
   "source": [
    "# build dictionaries that we will use later\n",
    "raw_word_numtags = {}\n",
    "for i in tagitem:\n",
    "    word = i['object_id']\n",
    "    raw_word_numtags[word] = raw_word_numtags.get(word, 0) + 1"
   ]
  },
  {
   "cell_type": "code",
   "execution_count": 7,
   "metadata": {},
   "outputs": [
    {
     "name": "stdout",
     "output_type": "stream",
     "text": [
      "Number of tagged items (words): 124735\n"
     ]
    }
   ],
   "source": [
    "print('Number of tagged items (words):',len(raw_word_numtags))"
   ]
  },
  {
   "cell_type": "code",
   "execution_count": 8,
   "metadata": {},
   "outputs": [
    {
     "data": {
      "text/plain": [
       "Text(0, 0.5, 'Number of words')"
      ]
     },
     "execution_count": 8,
     "metadata": {},
     "output_type": "execute_result"
    },
    {
     "data": {
      "image/png": "[encoded data removed]",
      "text/plain": [
       "<Figure size 432x288 with 1 Axes>"
      ]
     },
     "metadata": {
      "needs_background": "light"
     },
     "output_type": "display_data"
    }
   ],
   "source": [
    "plt.hist(list(raw_word_numtags.values()), bins=200)\n",
    "plt.xlim((0, 10))\n",
    "plt.xlabel('Number of tags for each word')\n",
    "plt.ylabel('Number of words')"
   ]
  },
  {
   "cell_type": "markdown",
   "metadata": {},
   "source": [
    "A lot of duplicated words with same word but different variations"
   ]
  },
  {
   "cell_type": "code",
   "execution_count": 9,
   "metadata": {},
   "outputs": [],
   "source": [
    "# TODO: since we are doing stemming, we really should be checking the tag ID before incrementing it\n",
    "# alternatively we can store the tagIDs in a set, and count the length of the set at the end\n",
    "word_numtags_map = {}\n",
    "for i in tagitem:\n",
    "    # get default word form\n",
    "    word = stemmer.stem(i['object_id'])\n",
    "    \n",
    "    # remove words that are not composed by alphabets\n",
    "    if len(re.sub('[a-z]+', '', word)) != 0:\n",
    "        continue\n",
    "    word_numtags_map[word] = word_numtags_map.get(word, 0) + 1"
   ]
  },
  {
   "cell_type": "code",
   "execution_count": 10,
   "metadata": {},
   "outputs": [
    {
     "name": "stdout",
     "output_type": "stream",
     "text": [
      "Number of tagged items: 99302\n"
     ]
    },
    {
     "data": {
      "text/plain": [
       "(0, 10)"
      ]
     },
     "execution_count": 10,
     "metadata": {},
     "output_type": "execute_result"
    },
    {
     "data": {
      "image/png": "[encoded data removed]",
      "text/plain": [
       "<Figure size 432x288 with 1 Axes>"
      ]
     },
     "metadata": {
      "needs_background": "light"
     },
     "output_type": "display_data"
    }
   ],
   "source": [
    "print('Number of tagged items:',len(word_numtags_map))\n",
    "plt.hist(list(word_numtags_map.values()), bins=200)\n",
    "plt.xlim((0, 10))"
   ]
  },
  {
   "cell_type": "code",
   "execution_count": 11,
   "metadata": {},
   "outputs": [
    {
     "name": "stdout",
     "output_type": "stream",
     "text": [
      "Number of words with greater than 1 tags is 38992 which is 0.3926607721898854 out of 99302 total number of stemmed words\n"
     ]
    }
   ],
   "source": [
    "cnts = list(word_numtags_map.values())\n",
    "greater_than_1_cnts = list(filter(lambda x: x > 1, cnts))\n",
    "print('Number of words with greater than 1 tags is', len(greater_than_1_cnts), 'which is',len(greater_than_1_cnts)/len(cnts), 'out of', len(cnts), 'total number of stemmed words')"
   ]
  },
  {
   "cell_type": "code",
   "execution_count": 12,
   "metadata": {},
   "outputs": [],
   "source": [
    "# build reverse mapping\n",
    "numtags_word_map = {} # basically reverse of st_word_numtags\n",
    "for w, cnt in word_numtags_map.items():\n",
    "    numtags_word_map[cnt] = numtags_word_map.get(cnt, []) + [w]\n"
   ]
  },
  {
   "cell_type": "code",
   "execution_count": 13,
   "metadata": {},
   "outputs": [],
   "source": [
    "def get_sim_pop_word(word_list, word_numtags_map, numtags_word_map, num_words = 1):\n",
    "    \"\"\"\n",
    "    Return list of words that has same popularity of the input word list\n",
    "    Args:\n",
    "    word_list - the list of words user creates\n",
    "    num_words - the number of suggested words returned by this function\n",
    "    word_numtags_map - the word to number of tags map\n",
    "    numtags_word_map - the number of tags to word map\n",
    "    \n",
    "    Returns:\n",
    "    suggested_words - list of words\n",
    "    \"\"\"\n",
    "    word_pop = list(map(lambda w: word_numtags_map.get(w, 0), word_list))\n",
    "    avg_list_pop = reduce(lambda x, y: x+ y, word_pop)/len(word_list)\n",
    "    ceil_avg = math.ceil(avg_list_pop) \n",
    "    print('average word list popularity', ceil_avg)\n",
    "    \n",
    "    # todo: probably can do better than to force it to 1. aka find most similar popularity count\n",
    "    if ceil_avg not in numtags_word_map.keys():\n",
    "        ceil_avg = 1 \n",
    "    # todo: use other mechanims say word2vec, most recent popular word to select words\n",
    "    suggested_words = random.sample(numtags_word_map[ceil_avg], num_words)\n",
    "    \n",
    "    return suggested_words\n",
    "    "
   ]
  },
  {
   "cell_type": "code",
   "execution_count": 14,
   "metadata": {},
   "outputs": [
    {
     "name": "stdout",
     "output_type": "stream",
     "text": [
      "average word list popularity 1\n"
     ]
    },
    {
     "data": {
      "text/plain": [
       "['bidarka']"
      ]
     },
     "execution_count": 14,
     "metadata": {},
     "output_type": "execute_result"
    }
   ],
   "source": [
    "test_t2w = {1: ['bathyspher', 'bidarka', 'crossjack'], 8: ['catboat', 'bugs'], 2: ['deadnip', 'clew-garnet', 'chesstre']}\n",
    "test_w2t = {'bathyspher': 1, 'bidarka': 1, 'crossjack': 1, 'catboat': 8, 'bugs': 8, 'deadnip': 2, 'clew-garnet':2, 'chesstre':2}\n",
    "test_wl = ['bathyspher']\n",
    "\n",
    "get_sim_pop_word(test_wl, test_w2t, test_t2w, num_words = 1)"
   ]
  },
  {
   "cell_type": "code",
   "execution_count": 15,
   "metadata": {},
   "outputs": [],
   "source": [
    "# todo: test it with user_lookup"
   ]
  }
 ],
 "metadata": {
  "kernelspec": {
   "display_name": "Python 3",
   "language": "python",
   "name": "python3"
  },
  "language_info": {
   "codemirror_mode": {
    "name": "ipython",
    "version": 3
   },
   "file_extension": ".py",
   "mimetype": "text/x-python",
   "name": "python",
   "nbconvert_exporter": "python",
   "pygments_lexer": "ipython3",
   "version": "3.6.8"
  }
 },
 "nbformat": 4,
 "nbformat_minor": 2
}
