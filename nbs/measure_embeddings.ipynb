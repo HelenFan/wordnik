{
 "cells": [
  {
   "cell_type": "code",
   "execution_count": 3,
   "metadata": {},
   "outputs": [
    {
     "name": "stdout",
     "output_type": "stream",
     "text": [
      "Populating the interactive namespace from numpy and matplotlib\n"
     ]
    }
   ],
   "source": [
    "import pandas as pd\n",
    "import json\n",
    "from pathlib import Path\n",
    "import pickle\n",
    "\n",
    "%pylab inline\n",
    "import seaborn as sns\n",
    "from matplotlib import pyplot as plt\n",
    "plt.style.use('ggplot')\n",
    "\n",
    "from collections import (\n",
    "    Counter,\n",
    "    defaultdict\n",
    ")"
   ]
  },
  {
   "cell_type": "code",
   "execution_count": 10,
   "metadata": {},
   "outputs": [],
   "source": [
    "project_path = Path('/home/jupyter/tutorials/wordnik')"
   ]
  },
  {
   "cell_type": "code",
   "execution_count": 29,
   "metadata": {},
   "outputs": [],
   "source": [
    "class ValidateModel(object):\n",
    "    \n",
    "    def __init__(self, weight_matrix, word2idx, idx2word, data_path):\n",
    "        self.weight_matrix = weight_matrix\n",
    "        self.word2idx = word2idx\n",
    "        self.idx2word = idx2word\n",
    "        self.data_path = data_path\n",
    "        \n",
    "    def find_closest_words(self, word=None, weights=None, n_words=10):\n",
    "        if word is not None:\n",
    "            dot_product = np.dot(\n",
    "                self.weight_matrix, \n",
    "                self.weight_matrix[self.word2idx[word]]\n",
    "            )\n",
    "        elif weights is not None:\n",
    "            pass\n",
    "        else:\n",
    "            raise ValueError(\"Either 'word' or 'weights' must be passed to function\")\n",
    "        \n",
    "        sorted_idx = np.argsort(dot_product)[::-1]\n",
    "        return [idx2word[i] for i in sorted_idx][1:n_words+1]\n",
    "    \n",
    "    def load_\n",
    "        \n",
    "        "
   ]
  },
  {
   "cell_type": "code",
   "execution_count": 30,
   "metadata": {},
   "outputs": [],
   "source": [
    "weight_matrix = pickle.load(open(project_path/'data'/'weight_matrix.pkl', 'rb'))\n",
    "word2idx = pickle.load(open(project_path/'data'/'w2i.pkl', 'rb'))\n",
    "idx2word = pickle.load(open(project_path/'data'/'i2w.pkl', 'rb'))"
   ]
  },
  {
   "cell_type": "code",
   "execution_count": 31,
   "metadata": {},
   "outputs": [],
   "source": [
    "vm = ValidateModel(weight_matrix, word2idx, idx2word, project_path/'data')"
   ]
  },
  {
   "cell_type": "code",
   "execution_count": 32,
   "metadata": {},
   "outputs": [
    {
     "data": {
      "text/plain": [
       "['ape',\n",
       " 'elaborate',\n",
       " 'ecclesiastical',\n",
       " 'acedia',\n",
       " 'ipsedixitism',\n",
       " 'riot',\n",
       " 'tit',\n",
       " 'timbre',\n",
       " 'caprice',\n",
       " 'abberation']"
      ]
     },
     "execution_count": 32,
     "metadata": {},
     "output_type": "execute_result"
    }
   ],
   "source": [
    "vm.find_closest_words(word='help')"
   ]
  },
  {
   "cell_type": "code",
   "execution_count": 36,
   "metadata": {},
   "outputs": [],
   "source": [
    "list_path = project_path/'data'/'data-06Jan2019'/'word_lists-06Jan2019'\n",
    "json_string = \"[\" + ','.join([l.strip() for l in open(list_path).readlines()]) + \"]\""
   ]
  },
  {
   "cell_type": "code",
   "execution_count": null,
   "metadata": {},
   "outputs": [],
   "source": [
    "list_data = json.loads(json_string)"
   ]
  },
  {
   "cell_type": "code",
   "execution_count": null,
   "metadata": {},
   "outputs": [],
   "source": []
  }
 ],
 "metadata": {
  "kernelspec": {
   "display_name": "Python 3",
   "language": "python",
   "name": "python3"
  },
  "language_info": {
   "codemirror_mode": {
    "name": "ipython",
    "version": 3
   },
   "file_extension": ".py",
   "mimetype": "text/x-python",
   "name": "python",
   "nbconvert_exporter": "python",
   "pygments_lexer": "ipython3",
   "version": "3.7.2"
  }
 },
 "nbformat": 4,
 "nbformat_minor": 2
}
