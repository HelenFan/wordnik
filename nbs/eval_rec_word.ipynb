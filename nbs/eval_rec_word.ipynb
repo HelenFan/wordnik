{
 "cells": [
  {
   "cell_type": "code",
   "execution_count": 1,
   "metadata": {},
   "outputs": [],
   "source": [
    "from nltk.stem.porter import *\n",
    "stemmer = PorterStemmer()"
   ]
  },
  {
   "cell_type": "code",
   "execution_count": 2,
   "metadata": {},
   "outputs": [
    {
     "data": {
      "text/plain": [
       "0.3333333333333333"
      ]
     },
     "execution_count": 2,
     "metadata": {},
     "output_type": "execute_result"
    }
   ],
   "source": [
    "def eval_rec_word(rec_word_list, test_word):\n",
    "    \"\"\" assumes recommendation function recommends several words\n",
    "    see if any of the recommended word (after stemming) matches the test word\"\"\"\n",
    "    stem_test_word = stemmer.stem(test_word)\n",
    "    stem_rec_word = list(map(lambda w: stemmer.stem(w), rec_word_list))\n",
    "    \n",
    "    # find number of words in recommended word matching test word\n",
    "    match_test_word = list(filter(lambda w: w == stem_test_word, stem_rec_word))\n",
    "    score = len(match_test_word)/len(stem_rec_word)\n",
    "\n",
    "    return score\n",
    "\n",
    "eval_rec_word(['studded', 'played', 'numbers'], 'playing')"
   ]
  },
  {
   "cell_type": "code",
   "execution_count": null,
   "metadata": {},
   "outputs": [],
   "source": []
  }
 ],
 "metadata": {
  "kernelspec": {
   "display_name": "Python 3",
   "language": "python",
   "name": "python3"
  },
  "language_info": {
   "codemirror_mode": {
    "name": "ipython",
    "version": 3
   },
   "file_extension": ".py",
   "mimetype": "text/x-python",
   "name": "python",
   "nbconvert_exporter": "python",
   "pygments_lexer": "ipython3",
   "version": "3.6.8"
  }
 },
 "nbformat": 4,
 "nbformat_minor": 2
}
