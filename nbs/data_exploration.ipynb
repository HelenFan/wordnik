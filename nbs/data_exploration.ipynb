{
 "cells": [
  {
   "cell_type": "code",
   "execution_count": 15,
   "metadata": {},
   "outputs": [
    {
     "name": "stdout",
     "output_type": "stream",
     "text": [
      "Populating the interactive namespace from numpy and matplotlib\n"
     ]
    }
   ],
   "source": [
    "import pandas as pd\n",
    "import json\n",
    "from pathlib import Path\n",
    "\n",
    "%pylab inline\n",
    "import seaborn as sns\n",
    "from matplotlib import pyplot as plt\n",
    "plt.style.use('ggplot')\n",
    "\n",
    "from collections import (\n",
    "    Counter,\n",
    "    defaultdict\n",
    ")"
   ]
  },
  {
   "cell_type": "code",
   "execution_count": 16,
   "metadata": {
    "collapsed": true
   },
   "outputs": [],
   "source": [
    "data_path = Path('/users/gcmac/dropbox/delta-analytics/')\n",
    "user_search_path = data_path/'data-19Jan2019'"
   ]
  },
  {
   "cell_type": "markdown",
   "metadata": {},
   "source": [
    "# Search Data"
   ]
  },
  {
   "cell_type": "code",
   "execution_count": 17,
   "metadata": {
    "collapsed": true
   },
   "outputs": [],
   "source": [
    "user_searches = []\n",
    "for file in user_search_path.iterdir():\n",
    "    # skip tar extension files\n",
    "    if str(file).split('.')[1] == 'tar':\n",
    "        continue\n",
    "    with open(file) as f:\n",
    "        user_searches.append(json.loads(f.read()))"
   ]
  },
  {
   "cell_type": "code",
   "execution_count": 18,
   "metadata": {
    "collapsed": true
   },
   "outputs": [],
   "source": [
    "full_user_searches = []\n",
    "\n",
    "for us in user_searches:\n",
    "    full_user_searches.extend(us)"
   ]
  },
  {
   "cell_type": "code",
   "execution_count": 19,
   "metadata": {},
   "outputs": [
    {
     "data": {
      "text/plain": [
       "[{'createdAt': '2012-01-02T15:14:29.101Z', 'wordstring': 'hasten'},\n",
       " {'createdAt': '2012-01-02T15:14:56.764Z', 'wordstring': 'hasten'}]"
      ]
     },
     "execution_count": 19,
     "metadata": {},
     "output_type": "execute_result"
    }
   ],
   "source": [
    "full_user_searches[0]['recentLookupCount']"
   ]
  },
  {
   "cell_type": "code",
   "execution_count": 20,
   "metadata": {
    "collapsed": true
   },
   "outputs": [],
   "source": [
    "search_strings = []\n",
    "\n",
    "for us in full_user_searches:\n",
    "    word_list = [search['wordstring'].lower() for search in us['recentLookupCount']]\n",
    "    search_strings.extend(word_list)"
   ]
  },
  {
   "cell_type": "code",
   "execution_count": 21,
   "metadata": {
    "collapsed": true
   },
   "outputs": [],
   "source": [
    "counts = Counter(search_strings)"
   ]
  },
  {
   "cell_type": "code",
   "execution_count": 30,
   "metadata": {
    "collapsed": true
   },
   "outputs": [],
   "source": [
    "search_tuples = []\n",
    "for us in full_user_searches:\n",
    "    search_tuples.extend([(us['_id'], search['wordstring'].lower()) for search in us['recentLookupCount'] ])"
   ]
  },
  {
   "cell_type": "code",
   "execution_count": 71,
   "metadata": {},
   "outputs": [],
   "source": [
    "search_df = pd.DataFrame(search_tuples, columns=['user_id', 'word'])\n",
    "search_df['dummy'] = 1\n",
    "\n",
    "search_df = search_df.groupby(['user_id', 'word'])['dummy'].count()\\\n",
    "                     .to_frame().reset_index()\n",
    "search_df['dummy'] = 1"
   ]
  },
  {
   "cell_type": "code",
   "execution_count": 73,
   "metadata": {},
   "outputs": [],
   "source": [
    "top_n = 100\n",
    "top_words = search_df.groupby('word')['user_id'].count().sort_values(ascending=False).index[:top_n]\n",
    "top_users = search_df.groupby('user_id')['word'].count().sort_values(ascending=False).index[:top_n]"
   ]
  },
  {
   "cell_type": "code",
   "execution_count": 82,
   "metadata": {},
   "outputs": [
    {
     "data": {
      "text/plain": [
       "user_id\n",
       "1159295    997\n",
       "1003798    991\n",
       "1160762    986\n",
       "1109009    985\n",
       "1138184    981\n",
       "1108653    980\n",
       "1046626    978\n",
       "1052945    974\n",
       "1100322    972\n",
       "1082612    971\n",
       "1103693    970\n",
       "1073611    969\n",
       "1132909    969\n",
       "3          965\n",
       "1054519    963\n",
       "1022237    953\n",
       "1028466    952\n",
       "1084851    951\n",
       "1110319    949\n",
       "1159490    947\n",
       "1082106    947\n",
       "1114903    938\n",
       "1110020    937\n",
       "1093552    933\n",
       "1101797    932\n",
       "1097267    932\n",
       "1094872    931\n",
       "1022373    929\n",
       "1063055    928\n",
       "1059765    927\n",
       "          ... \n",
       "1164046      1\n",
       "1163950      1\n",
       "1025704      1\n",
       "1025703      1\n",
       "1164000      1\n",
       "1128077      1\n",
       "1075209      1\n",
       "1128076      1\n",
       "1075223      1\n",
       "1128046      1\n",
       "1127988      1\n",
       "1075307      1\n",
       "1075380      1\n",
       "1025578      1\n",
       "1075458      1\n",
       "1164209      1\n",
       "1164060      1\n",
       "1075610      1\n",
       "1127793      1\n",
       "1127782      1\n",
       "1075723      1\n",
       "1127759      1\n",
       "1127758      1\n",
       "1075742      1\n",
       "1075771      1\n",
       "1127729      1\n",
       "1075878      1\n",
       "1127681      1\n",
       "1127629      1\n",
       "1067281      1\n",
       "Name: word, Length: 41574, dtype: int64"
      ]
     },
     "execution_count": 82,
     "metadata": {},
     "output_type": "execute_result"
    }
   ],
   "source": [
    "search_df.groupby('user_id')['word'].count().sort_values(ascending=False)"
   ]
  },
  {
   "cell_type": "code",
   "execution_count": 74,
   "metadata": {},
   "outputs": [],
   "source": [
    "top_df = search_df[(search_df['user_id'].isin(top_users) & (search_df['word'].isin(top_words)))]"
   ]
  },
  {
   "cell_type": "code",
   "execution_count": 75,
   "metadata": {},
   "outputs": [
    {
     "data": {
      "text/plain": [
       "(787, 3)"
      ]
     },
     "execution_count": 75,
     "metadata": {},
     "output_type": "execute_result"
    }
   ],
   "source": [
    "top_df.shape"
   ]
  },
  {
   "cell_type": "code",
   "execution_count": null,
   "metadata": {
    "collapsed": true
   },
   "outputs": [],
   "source": [
    "p = search_df.pivot('user_id', 'word', 'dummy').fillna(0)"
   ]
  },
  {
   "cell_type": "code",
   "execution_count": 84,
   "metadata": {},
   "outputs": [
    {
     "ename": "KeyboardInterrupt",
     "evalue": "",
     "output_type": "error",
     "traceback": [
      "\u001b[0;31m---------------------------------------------------------------------------\u001b[0m",
      "\u001b[0;31mKeyboardInterrupt\u001b[0m                         Traceback (most recent call last)",
      "\u001b[0;32m<ipython-input-84-7f2db5ea4238>\u001b[0m in \u001b[0;36m<module>\u001b[0;34m()\u001b[0m\n\u001b[0;32m----> 1\u001b[0;31m \u001b[0msys\u001b[0m\u001b[0;34m.\u001b[0m\u001b[0mgetsizeof\u001b[0m\u001b[0;34m(\u001b[0m\u001b[0msearch_df\u001b[0m\u001b[0;34m.\u001b[0m\u001b[0mpivot\u001b[0m\u001b[0;34m(\u001b[0m\u001b[0;34m'user_id'\u001b[0m\u001b[0;34m,\u001b[0m \u001b[0;34m'word'\u001b[0m\u001b[0;34m,\u001b[0m \u001b[0;34m'dummy'\u001b[0m\u001b[0;34m)\u001b[0m\u001b[0;34m.\u001b[0m\u001b[0mfillna\u001b[0m\u001b[0;34m(\u001b[0m\u001b[0;36m0\u001b[0m\u001b[0;34m)\u001b[0m\u001b[0;34m)\u001b[0m\u001b[0;34m\u001b[0m\u001b[0m\n\u001b[0m",
      "\u001b[0;32m~/anaconda3/lib/python3.6/site-packages/pandas/core/frame.py\u001b[0m in \u001b[0;36mpivot\u001b[0;34m(self, index, columns, values)\u001b[0m\n\u001b[1;32m   3851\u001b[0m         \"\"\"\n\u001b[1;32m   3852\u001b[0m         \u001b[0;32mfrom\u001b[0m \u001b[0mpandas\u001b[0m\u001b[0;34m.\u001b[0m\u001b[0mcore\u001b[0m\u001b[0;34m.\u001b[0m\u001b[0mreshape\u001b[0m\u001b[0;34m.\u001b[0m\u001b[0mreshape\u001b[0m \u001b[0;32mimport\u001b[0m \u001b[0mpivot\u001b[0m\u001b[0;34m\u001b[0m\u001b[0m\n\u001b[0;32m-> 3853\u001b[0;31m         \u001b[0;32mreturn\u001b[0m \u001b[0mpivot\u001b[0m\u001b[0;34m(\u001b[0m\u001b[0mself\u001b[0m\u001b[0;34m,\u001b[0m \u001b[0mindex\u001b[0m\u001b[0;34m=\u001b[0m\u001b[0mindex\u001b[0m\u001b[0;34m,\u001b[0m \u001b[0mcolumns\u001b[0m\u001b[0;34m=\u001b[0m\u001b[0mcolumns\u001b[0m\u001b[0;34m,\u001b[0m \u001b[0mvalues\u001b[0m\u001b[0;34m=\u001b[0m\u001b[0mvalues\u001b[0m\u001b[0;34m)\u001b[0m\u001b[0;34m\u001b[0m\u001b[0m\n\u001b[0m\u001b[1;32m   3854\u001b[0m \u001b[0;34m\u001b[0m\u001b[0m\n\u001b[1;32m   3855\u001b[0m     \u001b[0;32mdef\u001b[0m \u001b[0mstack\u001b[0m\u001b[0;34m(\u001b[0m\u001b[0mself\u001b[0m\u001b[0;34m,\u001b[0m \u001b[0mlevel\u001b[0m\u001b[0;34m=\u001b[0m\u001b[0;34m-\u001b[0m\u001b[0;36m1\u001b[0m\u001b[0;34m,\u001b[0m \u001b[0mdropna\u001b[0m\u001b[0;34m=\u001b[0m\u001b[0;32mTrue\u001b[0m\u001b[0;34m)\u001b[0m\u001b[0;34m:\u001b[0m\u001b[0;34m\u001b[0m\u001b[0m\n",
      "\u001b[0;32m~/anaconda3/lib/python3.6/site-packages/pandas/core/reshape/reshape.py\u001b[0m in \u001b[0;36mpivot\u001b[0;34m(self, index, columns, values)\u001b[0m\n\u001b[1;32m    376\u001b[0m         indexed = Series(self[values].values,\n\u001b[1;32m    377\u001b[0m                          index=MultiIndex.from_arrays([index, self[columns]]))\n\u001b[0;32m--> 378\u001b[0;31m         \u001b[0;32mreturn\u001b[0m \u001b[0mindexed\u001b[0m\u001b[0;34m.\u001b[0m\u001b[0munstack\u001b[0m\u001b[0;34m(\u001b[0m\u001b[0mcolumns\u001b[0m\u001b[0;34m)\u001b[0m\u001b[0;34m\u001b[0m\u001b[0m\n\u001b[0m\u001b[1;32m    379\u001b[0m \u001b[0;34m\u001b[0m\u001b[0m\n\u001b[1;32m    380\u001b[0m \u001b[0;34m\u001b[0m\u001b[0m\n",
      "\u001b[0;32m~/anaconda3/lib/python3.6/site-packages/pandas/core/series.py\u001b[0m in \u001b[0;36munstack\u001b[0;34m(self, level, fill_value)\u001b[0m\n\u001b[1;32m   2026\u001b[0m         \"\"\"\n\u001b[1;32m   2027\u001b[0m         \u001b[0;32mfrom\u001b[0m \u001b[0mpandas\u001b[0m\u001b[0;34m.\u001b[0m\u001b[0mcore\u001b[0m\u001b[0;34m.\u001b[0m\u001b[0mreshape\u001b[0m\u001b[0;34m.\u001b[0m\u001b[0mreshape\u001b[0m \u001b[0;32mimport\u001b[0m \u001b[0munstack\u001b[0m\u001b[0;34m\u001b[0m\u001b[0m\n\u001b[0;32m-> 2028\u001b[0;31m         \u001b[0;32mreturn\u001b[0m \u001b[0munstack\u001b[0m\u001b[0;34m(\u001b[0m\u001b[0mself\u001b[0m\u001b[0;34m,\u001b[0m \u001b[0mlevel\u001b[0m\u001b[0;34m,\u001b[0m \u001b[0mfill_value\u001b[0m\u001b[0;34m)\u001b[0m\u001b[0;34m\u001b[0m\u001b[0m\n\u001b[0m\u001b[1;32m   2029\u001b[0m \u001b[0;34m\u001b[0m\u001b[0m\n\u001b[1;32m   2030\u001b[0m     \u001b[0;31m# ----------------------------------------------------------------------\u001b[0m\u001b[0;34m\u001b[0m\u001b[0;34m\u001b[0m\u001b[0m\n",
      "\u001b[0;32m~/anaconda3/lib/python3.6/site-packages/pandas/core/reshape/reshape.py\u001b[0m in \u001b[0;36munstack\u001b[0;34m(obj, level, fill_value)\u001b[0m\n\u001b[1;32m    456\u001b[0m     \u001b[0;32melse\u001b[0m\u001b[0;34m:\u001b[0m\u001b[0;34m\u001b[0m\u001b[0m\n\u001b[1;32m    457\u001b[0m         unstacker = _Unstacker(obj.values, obj.index, level=level,\n\u001b[0;32m--> 458\u001b[0;31m                                fill_value=fill_value)\n\u001b[0m\u001b[1;32m    459\u001b[0m         \u001b[0;32mreturn\u001b[0m \u001b[0munstacker\u001b[0m\u001b[0;34m.\u001b[0m\u001b[0mget_result\u001b[0m\u001b[0;34m(\u001b[0m\u001b[0;34m)\u001b[0m\u001b[0;34m\u001b[0m\u001b[0m\n\u001b[1;32m    460\u001b[0m \u001b[0;34m\u001b[0m\u001b[0m\n",
      "\u001b[0;32m~/anaconda3/lib/python3.6/site-packages/pandas/core/reshape/reshape.py\u001b[0m in \u001b[0;36m__init__\u001b[0;34m(self, values, index, level, value_columns, fill_value)\u001b[0m\n\u001b[1;32m    108\u001b[0m \u001b[0;34m\u001b[0m\u001b[0m\n\u001b[1;32m    109\u001b[0m         \u001b[0mself\u001b[0m\u001b[0;34m.\u001b[0m\u001b[0m_make_sorted_values_labels\u001b[0m\u001b[0;34m(\u001b[0m\u001b[0;34m)\u001b[0m\u001b[0;34m\u001b[0m\u001b[0m\n\u001b[0;32m--> 110\u001b[0;31m         \u001b[0mself\u001b[0m\u001b[0;34m.\u001b[0m\u001b[0m_make_selectors\u001b[0m\u001b[0;34m(\u001b[0m\u001b[0;34m)\u001b[0m\u001b[0;34m\u001b[0m\u001b[0m\n\u001b[0m\u001b[1;32m    111\u001b[0m \u001b[0;34m\u001b[0m\u001b[0m\n\u001b[1;32m    112\u001b[0m     \u001b[0;32mdef\u001b[0m \u001b[0m_make_sorted_values_labels\u001b[0m\u001b[0;34m(\u001b[0m\u001b[0mself\u001b[0m\u001b[0;34m)\u001b[0m\u001b[0;34m:\u001b[0m\u001b[0;34m\u001b[0m\u001b[0m\n",
      "\u001b[0;32m~/anaconda3/lib/python3.6/site-packages/pandas/core/reshape/reshape.py\u001b[0m in \u001b[0;36m_make_selectors\u001b[0;34m(self)\u001b[0m\n\u001b[1;32m    145\u001b[0m         \u001b[0mmask\u001b[0m\u001b[0;34m.\u001b[0m\u001b[0mput\u001b[0m\u001b[0;34m(\u001b[0m\u001b[0mselector\u001b[0m\u001b[0;34m,\u001b[0m \u001b[0;32mTrue\u001b[0m\u001b[0;34m)\u001b[0m\u001b[0;34m\u001b[0m\u001b[0m\n\u001b[1;32m    146\u001b[0m \u001b[0;34m\u001b[0m\u001b[0m\n\u001b[0;32m--> 147\u001b[0;31m         \u001b[0;32mif\u001b[0m \u001b[0mmask\u001b[0m\u001b[0;34m.\u001b[0m\u001b[0msum\u001b[0m\u001b[0;34m(\u001b[0m\u001b[0;34m)\u001b[0m \u001b[0;34m<\u001b[0m \u001b[0mlen\u001b[0m\u001b[0;34m(\u001b[0m\u001b[0mself\u001b[0m\u001b[0;34m.\u001b[0m\u001b[0mindex\u001b[0m\u001b[0;34m)\u001b[0m\u001b[0;34m:\u001b[0m\u001b[0;34m\u001b[0m\u001b[0m\n\u001b[0m\u001b[1;32m    148\u001b[0m             raise ValueError('Index contains duplicate entries, '\n\u001b[1;32m    149\u001b[0m                              'cannot reshape')\n",
      "\u001b[0;32m~/anaconda3/lib/python3.6/site-packages/numpy/core/_methods.py\u001b[0m in \u001b[0;36m_sum\u001b[0;34m(a, axis, dtype, out, keepdims)\u001b[0m\n\u001b[1;32m     30\u001b[0m \u001b[0;34m\u001b[0m\u001b[0m\n\u001b[1;32m     31\u001b[0m \u001b[0;32mdef\u001b[0m \u001b[0m_sum\u001b[0m\u001b[0;34m(\u001b[0m\u001b[0ma\u001b[0m\u001b[0;34m,\u001b[0m \u001b[0maxis\u001b[0m\u001b[0;34m=\u001b[0m\u001b[0;32mNone\u001b[0m\u001b[0;34m,\u001b[0m \u001b[0mdtype\u001b[0m\u001b[0;34m=\u001b[0m\u001b[0;32mNone\u001b[0m\u001b[0;34m,\u001b[0m \u001b[0mout\u001b[0m\u001b[0;34m=\u001b[0m\u001b[0;32mNone\u001b[0m\u001b[0;34m,\u001b[0m \u001b[0mkeepdims\u001b[0m\u001b[0;34m=\u001b[0m\u001b[0;32mFalse\u001b[0m\u001b[0;34m)\u001b[0m\u001b[0;34m:\u001b[0m\u001b[0;34m\u001b[0m\u001b[0m\n\u001b[0;32m---> 32\u001b[0;31m     \u001b[0;32mreturn\u001b[0m \u001b[0mumr_sum\u001b[0m\u001b[0;34m(\u001b[0m\u001b[0ma\u001b[0m\u001b[0;34m,\u001b[0m \u001b[0maxis\u001b[0m\u001b[0;34m,\u001b[0m \u001b[0mdtype\u001b[0m\u001b[0;34m,\u001b[0m \u001b[0mout\u001b[0m\u001b[0;34m,\u001b[0m \u001b[0mkeepdims\u001b[0m\u001b[0;34m)\u001b[0m\u001b[0;34m\u001b[0m\u001b[0m\n\u001b[0m\u001b[1;32m     33\u001b[0m \u001b[0;34m\u001b[0m\u001b[0m\n\u001b[1;32m     34\u001b[0m \u001b[0;32mdef\u001b[0m \u001b[0m_prod\u001b[0m\u001b[0;34m(\u001b[0m\u001b[0ma\u001b[0m\u001b[0;34m,\u001b[0m \u001b[0maxis\u001b[0m\u001b[0;34m=\u001b[0m\u001b[0;32mNone\u001b[0m\u001b[0;34m,\u001b[0m \u001b[0mdtype\u001b[0m\u001b[0;34m=\u001b[0m\u001b[0;32mNone\u001b[0m\u001b[0;34m,\u001b[0m \u001b[0mout\u001b[0m\u001b[0;34m=\u001b[0m\u001b[0;32mNone\u001b[0m\u001b[0;34m,\u001b[0m \u001b[0mkeepdims\u001b[0m\u001b[0;34m=\u001b[0m\u001b[0;32mFalse\u001b[0m\u001b[0;34m)\u001b[0m\u001b[0;34m:\u001b[0m\u001b[0;34m\u001b[0m\u001b[0m\n",
      "\u001b[0;31mKeyboardInterrupt\u001b[0m: "
     ]
    }
   ],
   "source": [
    "sys.getsizeof(search_df.pivot('user_id', 'word', 'dummy').fillna(0)) / 1e9"
   ]
  },
  {
   "cell_type": "code",
   "execution_count": 78,
   "metadata": {},
   "outputs": [
    {
     "data": {
      "text/plain": [
       "<matplotlib.axes._subplots.AxesSubplot at 0x1a4ddbfa90>"
      ]
     },
     "execution_count": 78,
     "metadata": {},
     "output_type": "execute_result"
    },
    {
     "data": {
      "image/png": "[encoded data removed]",
      "text/plain": [
       "<matplotlib.figure.Figure at 0x1a4ddbf5f8>"
      ]
     },
     "metadata": {},
     "output_type": "display_data"
    }
   ],
   "source": [
    "sns.heatmap(top_df.pivot('user_id', 'word', 'dummy').fillna(0))"
   ]
  },
  {
   "cell_type": "code",
   "execution_count": 67,
   "metadata": {},
   "outputs": [
    {
     "data": {
      "text/plain": [
       "(1476935, 3)"
      ]
     },
     "execution_count": 67,
     "metadata": {},
     "output_type": "execute_result"
    }
   ],
   "source": [
    "search_df.shape"
   ]
  },
  {
   "cell_type": "code",
   "execution_count": 59,
   "metadata": {},
   "outputs": [
    {
     "data": {
      "text/html": [
       "<div>\n",
       "<style>\n",
       "    .dataframe thead tr:only-child th {\n",
       "        text-align: right;\n",
       "    }\n",
       "\n",
       "    .dataframe thead th {\n",
       "        text-align: left;\n",
       "    }\n",
       "\n",
       "    .dataframe tbody tr th {\n",
       "        vertical-align: top;\n",
       "    }\n",
       "</style>\n",
       "<table border=\"1\" class=\"dataframe\">\n",
       "  <thead>\n",
       "    <tr style=\"text-align: right;\">\n",
       "      <th></th>\n",
       "      <th>user_id</th>\n",
       "      <th>word</th>\n",
       "      <th>dummy</th>\n",
       "    </tr>\n",
       "  </thead>\n",
       "  <tbody>\n",
       "    <tr>\n",
       "      <th>63185</th>\n",
       "      <td>1006022</td>\n",
       "      <td>sciolist</td>\n",
       "      <td>1</td>\n",
       "    </tr>\n",
       "    <tr>\n",
       "      <th>621701</th>\n",
       "      <td>1074786</td>\n",
       "      <td>odious</td>\n",
       "      <td>1</td>\n",
       "    </tr>\n",
       "    <tr>\n",
       "      <th>1114944</th>\n",
       "      <td>1110125</td>\n",
       "      <td>obsequious</td>\n",
       "      <td>1</td>\n",
       "    </tr>\n",
       "    <tr>\n",
       "      <th>64204</th>\n",
       "      <td>1006089</td>\n",
       "      <td>antonomasia</td>\n",
       "      <td>1</td>\n",
       "    </tr>\n",
       "    <tr>\n",
       "      <th>555625</th>\n",
       "      <td>1069435</td>\n",
       "      <td>swimmers</td>\n",
       "      <td>1</td>\n",
       "    </tr>\n",
       "    <tr>\n",
       "      <th>1304230</th>\n",
       "      <td>1130710</td>\n",
       "      <td>cherckered</td>\n",
       "      <td>1</td>\n",
       "    </tr>\n",
       "    <tr>\n",
       "      <th>874661</th>\n",
       "      <td>1095512</td>\n",
       "      <td>shirk</td>\n",
       "      <td>1</td>\n",
       "    </tr>\n",
       "    <tr>\n",
       "      <th>1095583</th>\n",
       "      <td>1109051</td>\n",
       "      <td>ottoman</td>\n",
       "      <td>1</td>\n",
       "    </tr>\n",
       "    <tr>\n",
       "      <th>1470591</th>\n",
       "      <td>1172309</td>\n",
       "      <td>laundering</td>\n",
       "      <td>1</td>\n",
       "    </tr>\n",
       "    <tr>\n",
       "      <th>769933</th>\n",
       "      <td>1085724</td>\n",
       "      <td>crossing</td>\n",
       "      <td>1</td>\n",
       "    </tr>\n",
       "    <tr>\n",
       "      <th>579148</th>\n",
       "      <td>1071718</td>\n",
       "      <td>geloscopy</td>\n",
       "      <td>1</td>\n",
       "    </tr>\n",
       "    <tr>\n",
       "      <th>1126391</th>\n",
       "      <td>1110789</td>\n",
       "      <td>contrite</td>\n",
       "      <td>1</td>\n",
       "    </tr>\n",
       "    <tr>\n",
       "      <th>318331</th>\n",
       "      <td>1052206</td>\n",
       "      <td>exonym</td>\n",
       "      <td>1</td>\n",
       "    </tr>\n",
       "    <tr>\n",
       "      <th>501581</th>\n",
       "      <td>1065080</td>\n",
       "      <td>griffindor</td>\n",
       "      <td>1</td>\n",
       "    </tr>\n",
       "    <tr>\n",
       "      <th>641453</th>\n",
       "      <td>1076383</td>\n",
       "      <td>negate</td>\n",
       "      <td>1</td>\n",
       "    </tr>\n",
       "  </tbody>\n",
       "</table>\n",
       "</div>"
      ],
      "text/plain": [
       "         user_id         word  dummy\n",
       "63185    1006022     sciolist      1\n",
       "621701   1074786       odious      1\n",
       "1114944  1110125   obsequious      1\n",
       "64204    1006089  antonomasia      1\n",
       "555625   1069435     swimmers      1\n",
       "1304230  1130710   cherckered      1\n",
       "874661   1095512        shirk      1\n",
       "1095583  1109051      ottoman      1\n",
       "1470591  1172309   laundering      1\n",
       "769933   1085724     crossing      1\n",
       "579148   1071718    geloscopy      1\n",
       "1126391  1110789     contrite      1\n",
       "318331   1052206       exonym      1\n",
       "501581   1065080   griffindor      1\n",
       "641453   1076383       negate      1"
      ]
     },
     "execution_count": 59,
     "metadata": {},
     "output_type": "execute_result"
    }
   ],
   "source": [
    "search_df.sample(15)"
   ]
  },
  {
   "cell_type": "code",
   "execution_count": 35,
   "metadata": {},
   "outputs": [
    {
     "data": {
      "text/plain": [
       "41574"
      ]
     },
     "execution_count": 35,
     "metadata": {},
     "output_type": "execute_result"
    }
   ],
   "source": [
    "search_df['user_id'].nunique()"
   ]
  },
  {
   "cell_type": "code",
   "execution_count": 36,
   "metadata": {},
   "outputs": [
    {
     "data": {
      "text/plain": [
       "341910"
      ]
     },
     "execution_count": 36,
     "metadata": {},
     "output_type": "execute_result"
    }
   ],
   "source": [
    "search_df['word'].nunique()"
   ]
  },
  {
   "cell_type": "code",
   "execution_count": 33,
   "metadata": {},
   "outputs": [
    {
     "data": {
      "text/plain": [
       "(1910836, 2)"
      ]
     },
     "execution_count": 33,
     "metadata": {},
     "output_type": "execute_result"
    }
   ],
   "source": [
    "search_df.shape"
   ]
  },
  {
   "cell_type": "code",
   "execution_count": 24,
   "metadata": {},
   "outputs": [
    {
     "data": {
      "text/plain": [
       "{'_id': 1080001,\n",
       " 'recentLookupCount': [{'createdAt': '2012-01-02T15:14:29.101Z',\n",
       "   'wordstring': 'hasten'},\n",
       "  {'createdAt': '2012-01-02T15:14:56.764Z', 'wordstring': 'hasten'}],\n",
       " 'recentLookups': 2}"
      ]
     },
     "execution_count": 24,
     "metadata": {},
     "output_type": "execute_result"
    }
   ],
   "source": [
    "full_user_searches[0]"
   ]
  },
  {
   "cell_type": "code",
   "execution_count": 22,
   "metadata": {
    "scrolled": true
   },
   "outputs": [
    {
     "data": {
      "text/plain": [
       "[('undefined', 2224),\n",
       " ('wordnik', 1646),\n",
       " ('code', 1490),\n",
       " ('vituperative', 1303),\n",
       " ('dictionary', 1100),\n",
       " ('altruism', 1028),\n",
       " ('scrabble', 1009),\n",
       " ('love', 968),\n",
       " ('cat', 910),\n",
       " ('<a href=', 899),\n",
       " ('serendipity', 893),\n",
       " ('alacrity', 891),\n",
       " ('laconic', 875),\n",
       " ('obsequious', 862),\n",
       " ('capricious', 839),\n",
       " ('zeitgeist', 821),\n",
       " ('diaphanous', 818),\n",
       " ('sanguine', 815),\n",
       " ('ephemeral', 792),\n",
       " ('inchoate', 791),\n",
       " ('egregious', 763),\n",
       " ('desultory', 761),\n",
       " ('esoteric', 752),\n",
       " ('quixotic', 751),\n",
       " ('comprehensive', 746),\n",
       " ('abate', 741),\n",
       " ('lugubrious', 741),\n",
       " ('gre', 740),\n",
       " ('main', 734),\n",
       " ('mellifluous', 704),\n",
       " ('recondite', 698),\n",
       " ('obstreperous', 691),\n",
       " ('abjure', 664),\n",
       " ('schadenfreude', 662),\n",
       " ('perfunctory', 657),\n",
       " ('pernicious', 657),\n",
       " ('erudite', 646),\n",
       " ('abase', 645),\n",
       " ('ubiquitous', 641),\n",
       " ('reticent', 638),\n",
       " ('facetious', 628),\n",
       " ('fastidious', 613),\n",
       " ('ennui', 606),\n",
       " ('prosaic', 606),\n",
       " ('new interface', 606),\n",
       " ('assuage', 602),\n",
       " ('adumbrate', 596),\n",
       " ('abstruse', 595),\n",
       " ('truculent', 592),\n",
       " ('calumny', 582),\n",
       " ('ameliorate', 580),\n",
       " ('specious', 579),\n",
       " ('halcyon', 578),\n",
       " ('jejune', 577),\n",
       " ('inimical', 574),\n",
       " ('spurious', 558),\n",
       " ('vicissitude', 558),\n",
       " ('perspicacious', 551),\n",
       " ('obdurate', 551),\n",
       " ('sedulous', 548),\n",
       " ('eschew', 547),\n",
       " ('supercilious', 546),\n",
       " ('kerfuffle', 541),\n",
       " ('api', 541),\n",
       " ('recalcitrant', 540),\n",
       " ('insipid', 537),\n",
       " ('austere', 537),\n",
       " ('sardonic', 537),\n",
       " ('prevaricate', 533),\n",
       " ('quotidian', 532),\n",
       " ('definition', 532),\n",
       " ('repudiate', 530),\n",
       " ('pedantic', 526),\n",
       " ('taciturn', 521),\n",
       " ('innocuous', 520),\n",
       " ('profligate', 520),\n",
       " ('abrogate', 517),\n",
       " ('company', 511),\n",
       " ('opprobrium', 511),\n",
       " ('verisimilitude', 510),\n",
       " ('loquacious', 509),\n",
       " ('cogent', 507),\n",
       " ('assiduous', 507),\n",
       " ('trenchant', 506),\n",
       " ('amenable', 506),\n",
       " ('anathema', 504),\n",
       " ('hello', 502),\n",
       " ('belie', 502),\n",
       " ('petrichor', 501),\n",
       " ('arcane', 500),\n",
       " ('abstemious', 498),\n",
       " ('dog', 497),\n",
       " ('inexorable', 494),\n",
       " ('banal', 493),\n",
       " ('demur', 493),\n",
       " ('aberrant', 492),\n",
       " ('sycophant', 487),\n",
       " ('saturnine', 486),\n",
       " ('abeyance', 479),\n",
       " ('polemic', 479)]"
      ]
     },
     "execution_count": 22,
     "metadata": {},
     "output_type": "execute_result"
    }
   ],
   "source": [
    "counts.most_common(100)"
   ]
  },
  {
   "cell_type": "code",
   "execution_count": 47,
   "metadata": {},
   "outputs": [
    {
     "data": {
      "text/plain": [
       "1910836"
      ]
     },
     "execution_count": 47,
     "metadata": {},
     "output_type": "execute_result"
    }
   ],
   "source": [
    "len(search_strings)"
   ]
  },
  {
   "cell_type": "code",
   "execution_count": 20,
   "metadata": {
    "scrolled": true
   },
   "outputs": [
    {
     "data": {
      "text/plain": [
       "41574"
      ]
     },
     "execution_count": 20,
     "metadata": {},
     "output_type": "execute_result"
    }
   ],
   "source": [
    "len(full_user_searches)"
   ]
  },
  {
   "cell_type": "code",
   "execution_count": 35,
   "metadata": {
    "collapsed": true
   },
   "outputs": [],
   "source": [
    "n_searches = np.array(sorted([us['recentLookups'] for us in full_user_searches]))"
   ]
  },
  {
   "cell_type": "code",
   "execution_count": 30,
   "metadata": {
    "collapsed": true
   },
   "outputs": [],
   "source": [
    "import math\n",
    "pct = .5\n",
    "idx = math.floor(len(n_searches) * pct)\n",
    "n_searches[idx]"
   ]
  },
  {
   "cell_type": "code",
   "execution_count": 60,
   "metadata": {
    "collapsed": true
   },
   "outputs": [],
   "source": [
    "import pandas as pd"
   ]
  },
  {
   "cell_type": "code",
   "execution_count": 26,
   "metadata": {},
   "outputs": [
    {
     "data": {
      "text/plain": [
       "<matplotlib.axes._subplots.AxesSubplot at 0x12eca8860>"
      ]
     },
     "execution_count": 26,
     "metadata": {},
     "output_type": "execute_result"
    },
    {
     "data": {
      "image/png": "[encoded data removed]",
      "text/plain": [
       "<matplotlib.figure.Figure at 0x12ecca320>"
      ]
     },
     "metadata": {},
     "output_type": "display_data"
    }
   ],
   "source": [
    "sns.distplot(n_searches)"
   ]
  },
  {
   "cell_type": "markdown",
   "metadata": {},
   "source": [
    "# List Data"
   ]
  },
  {
   "cell_type": "code",
   "execution_count": 69,
   "metadata": {
    "collapsed": true
   },
   "outputs": [],
   "source": [
    "list_path = data_path/'data-06Jan2019'/'word_lists-06Jan2019'\n",
    "json_string = \"[\" + ','.join([l.strip() for l in open(list_path).readlines()]) + \"]\""
   ]
  },
  {
   "cell_type": "code",
   "execution_count": 71,
   "metadata": {
    "collapsed": true
   },
   "outputs": [],
   "source": [
    "list_data = json.loads(json_string)"
   ]
  },
  {
   "cell_type": "code",
   "execution_count": 83,
   "metadata": {},
   "outputs": [
    {
     "data": {
      "text/plain": [
       "Counter({dict: 45127, int: 2})"
      ]
     },
     "execution_count": 83,
     "metadata": {},
     "output_type": "execute_result"
    }
   ],
   "source": [
    "Counter([type(ld['numberWordsInList']) for ld in list_data])"
   ]
  },
  {
   "cell_type": "code",
   "execution_count": 87,
   "metadata": {
    "collapsed": true
   },
   "outputs": [],
   "source": [
    "list_len = [int(ld['numberWordsInList']['$numberLong']) \n",
    "            for ld in list_data if isinstance(ld['numberWordsInList'], dict)]\n",
    "list_len = np.array(list_len)"
   ]
  },
  {
   "cell_type": "code",
   "execution_count": 86,
   "metadata": {
    "scrolled": true
   },
   "outputs": [
    {
     "data": {
      "text/plain": [
       "<matplotlib.axes._subplots.AxesSubplot at 0x12f53e978>"
      ]
     },
     "execution_count": 86,
     "metadata": {},
     "output_type": "execute_result"
    },
    {
     "data": {
      "image/png": "[encoded data removed]",
      "text/plain": [
       "<matplotlib.figure.Figure at 0x12f53f7b8>"
      ]
     },
     "metadata": {},
     "output_type": "display_data"
    }
   ],
   "source": [
    "sns.distplot(list_len)"
   ]
  },
  {
   "cell_type": "code",
   "execution_count": 96,
   "metadata": {
    "collapsed": true
   },
   "outputs": [],
   "source": [
    "word_list_path = data_path/'data-06Jan2019'/'listed_words-06Jan2019'\n",
    "json_string = \"[\" + ','.join([l.strip() for l in open(word_list_path).readlines()]) + \"]\"\n",
    "wl_data = json.loads(json_string)\n",
    "json_string = None"
   ]
  },
  {
   "cell_type": "code",
   "execution_count": 104,
   "metadata": {
    "collapsed": true
   },
   "outputs": [],
   "source": [
    "word_lists = defaultdict(list)\n",
    "\n",
    "for wld in wl_data:\n",
    "    word_lists[int(wld['wordListId']['$numberLong'])].append(wld['lcword'])"
   ]
  },
  {
   "cell_type": "code",
   "execution_count": 111,
   "metadata": {},
   "outputs": [
    {
     "data": {
      "text/plain": [
       "39658"
      ]
     },
     "execution_count": 111,
     "metadata": {},
     "output_type": "execute_result"
    }
   ],
   "source": [
    "len(word_lists.keys())"
   ]
  },
  {
   "cell_type": "code",
   "execution_count": 106,
   "metadata": {
    "collapsed": true
   },
   "outputs": [],
   "source": [
    "word_lists = {list_id:set(words_in_list) for list_id, words_in_list in word_lists.items()}"
   ]
  },
  {
   "cell_type": "code",
   "execution_count": 107,
   "metadata": {},
   "outputs": [
    {
     "data": {
      "text/plain": [
       "{'drool',\n",
       " 'knit',\n",
       " 'meshuggeneh',\n",
       " 'oomph',\n",
       " 'reconciliation',\n",
       " 'recur',\n",
       " 'ridiculous',\n",
       " 'serendipity',\n",
       " 'special'}"
      ]
     },
     "execution_count": 107,
     "metadata": {},
     "output_type": "execute_result"
    }
   ],
   "source": [
    "word_lists[170]"
   ]
  },
  {
   "cell_type": "code",
   "execution_count": 109,
   "metadata": {},
   "outputs": [
    {
     "data": {
      "text/plain": [
       "9"
      ]
     },
     "execution_count": 109,
     "metadata": {},
     "output_type": "execute_result"
    }
   ],
   "source": [
    "len(word_lists[170])"
   ]
  },
  {
   "cell_type": "code",
   "execution_count": 110,
   "metadata": {
    "collapsed": true
   },
   "outputs": [],
   "source": [
    "def jaccard_sim(set1, set2):\n",
    "    return len(set1.intersection(set2)) / len(set1.union(set2))"
   ]
  },
  {
   "cell_type": "code",
   "execution_count": 112,
   "metadata": {
    "collapsed": true
   },
   "outputs": [],
   "source": [
    "from multiprocessing import Pool"
   ]
  },
  {
   "cell_type": "code",
   "execution_count": 150,
   "metadata": {
    "collapsed": true
   },
   "outputs": [],
   "source": [
    "list_id = np.random.choice(list(word_lists.keys()), 1)[0]"
   ]
  },
  {
   "cell_type": "code",
   "execution_count": 151,
   "metadata": {
    "collapsed": true
   },
   "outputs": [],
   "source": [
    "sims = {}\n",
    "for i,lid in enumerate(word_lists.keys()):\n",
    "    if lid != list_id:\n",
    "        sims[lid] = jaccard_sim(word_lists[list_id], word_lists[lid])"
   ]
  },
  {
   "cell_type": "code",
   "execution_count": 152,
   "metadata": {},
   "outputs": [
    {
     "data": {
      "text/plain": [
       "{'aberrant',\n",
       " 'abet',\n",
       " 'abject',\n",
       " 'ablution',\n",
       " 'abstruse',\n",
       " 'acclivity',\n",
       " 'acerbic',\n",
       " 'admonish',\n",
       " 'adroit',\n",
       " 'affluent'}"
      ]
     },
     "execution_count": 152,
     "metadata": {},
     "output_type": "execute_result"
    }
   ],
   "source": [
    "word_lists[list_id]"
   ]
  },
  {
   "cell_type": "code",
   "execution_count": 153,
   "metadata": {
    "scrolled": true
   },
   "outputs": [
    {
     "data": {
      "text/plain": [
       "501037    0.166667\n",
       "419073    0.153846\n",
       "507020    0.142857\n",
       "414006    0.115385\n",
       "377051    0.113636\n",
       "33445     0.111111\n",
       "570005    0.111111\n",
       "245011    0.102564\n",
       "26508     0.100000\n",
       "2313      0.100000\n",
       "487016    0.100000\n",
       "349016    0.100000\n",
       "16511     0.100000\n",
       "16126     0.100000\n",
       "339003    0.100000\n",
       "451134    0.100000\n",
       "342025    0.100000\n",
       "461008    0.100000\n",
       "25878     0.100000\n",
       "272017    0.100000\n",
       "3597      0.095238\n",
       "448170    0.090909\n",
       "437079    0.090909\n",
       "8932      0.090909\n",
       "7478      0.090909\n",
       "368062    0.090909\n",
       "385070    0.090909\n",
       "633097    0.090909\n",
       "366033    0.086957\n",
       "12072     0.083333\n",
       "            ...   \n",
       "32453     0.000000\n",
       "32452     0.000000\n",
       "32451     0.000000\n",
       "32450     0.000000\n",
       "32449     0.000000\n",
       "32448     0.000000\n",
       "32447     0.000000\n",
       "32446     0.000000\n",
       "32445     0.000000\n",
       "32444     0.000000\n",
       "32462     0.000000\n",
       "32464     0.000000\n",
       "32482     0.000000\n",
       "32465     0.000000\n",
       "32481     0.000000\n",
       "32480     0.000000\n",
       "32479     0.000000\n",
       "32478     0.000000\n",
       "32477     0.000000\n",
       "32476     0.000000\n",
       "32475     0.000000\n",
       "32474     0.000000\n",
       "32472     0.000000\n",
       "32471     0.000000\n",
       "32470     0.000000\n",
       "32469     0.000000\n",
       "32468     0.000000\n",
       "32467     0.000000\n",
       "32466     0.000000\n",
       "1         0.000000\n",
       "Length: 39657, dtype: float64"
      ]
     },
     "execution_count": 153,
     "metadata": {},
     "output_type": "execute_result"
    }
   ],
   "source": [
    "pd.Series(sims).sort_values(ascending=False)"
   ]
  },
  {
   "cell_type": "code",
   "execution_count": 157,
   "metadata": {},
   "outputs": [
    {
     "data": {
      "text/plain": [
       "{'abstruse',\n",
       " 'acerbic',\n",
       " 'burgeon',\n",
       " 'espouse',\n",
       " 'forlorn',\n",
       " 'hackneyed',\n",
       " 'laudable',\n",
       " 'pedantic',\n",
       " 'provincial',\n",
       " 'underscore'}"
      ]
     },
     "execution_count": 157,
     "metadata": {},
     "output_type": "execute_result"
    }
   ],
   "source": [
    "word_lists[570005]"
   ]
  },
  {
   "cell_type": "code",
   "execution_count": 135,
   "metadata": {},
   "outputs": [
    {
     "data": {
      "text/plain": [
       "{'adulatory',\n",
       " 'calumny',\n",
       " 'dogma',\n",
       " 'implicit',\n",
       " 'manifest',\n",
       " 'obtuse',\n",
       " 'penitent',\n",
       " 'perspicacious',\n",
       " 'sagacious',\n",
       " 'verisimilitude'}"
      ]
     },
     "execution_count": 135,
     "metadata": {},
     "output_type": "execute_result"
    }
   ],
   "source": [
    "word_lists[list_id]"
   ]
  },
  {
   "cell_type": "code",
   "execution_count": null,
   "metadata": {
    "collapsed": true
   },
   "outputs": [],
   "source": []
  }
 ],
 "metadata": {
  "kernelspec": {
   "display_name": "Python 3",
   "language": "python",
   "name": "python3"
  },
  "language_info": {
   "codemirror_mode": {
    "name": "ipython",
    "version": 3
   },
   "file_extension": ".py",
   "mimetype": "text/x-python",
   "name": "python",
   "nbconvert_exporter": "python",
   "pygments_lexer": "ipython3",
   "version": "3.7.2"
  }
 },
 "nbformat": 4,
 "nbformat_minor": 2
}
