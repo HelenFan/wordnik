{
 "cells": [
  {
   "cell_type": "code",
   "execution_count": 1,
   "metadata": {},
   "outputs": [
    {
     "name": "stderr",
     "output_type": "stream",
     "text": [
      "/anaconda3/lib/python3.7/site-packages/smart_open/ssh.py:34: UserWarning: paramiko missing, opening SSH/SCP/SFTP paths will be disabled.  `pip install paramiko` to suppress\n",
      "  warnings.warn('paramiko missing, opening SSH/SCP/SFTP paths will be disabled.  `pip install paramiko` to suppress')\n"
     ]
    }
   ],
   "source": [
    "import pandas as pd\n",
    "import gensim\n",
    "import pickle"
   ]
  },
  {
   "cell_type": "code",
   "execution_count": 2,
   "metadata": {},
   "outputs": [],
   "source": [
    "def get_clean_data(path):\n",
    "    \"\"\"Read a json file into Pandas DataFrame. Clean the DF by changing every cell from a dictionary to a number or string.\n",
    "    \n",
    "    Parameters\n",
    "    ----------\n",
    "    path : string\n",
    "        Location of the Wordnik json file\n",
    "    \n",
    "    Returns\n",
    "    -------\n",
    "    df : Pandas DataFrame\n",
    "        Cleaned DataFramed of table\n",
    "    \"\"\"\n",
    "    df = pd.read_json(path)\n",
    "    for c in df.columns:\n",
    "        df[c] = df[c].apply(lambda x: list(x.values())[0] if type(x) == dict else x)\n",
    "    return df\n",
    "\n",
    "def intialize_listwords_listvecs(from_existing=True):\n",
    "    if from_existing:\n",
    "        with open('wordlists.pickle', 'rb') as handle:\n",
    "            w = pickle.load(handle)\n",
    "        with open('listvecs.pickle', 'rb') as handle:\n",
    "            u = pickle._Unpickler(handle)\n",
    "            u.encoding = 'latin1'\n",
    "            v = u.load()\n",
    "    else:\n",
    "        w = {}\n",
    "        v = {}\n",
    "    return w, v\n",
    "\n",
    "def update_listwords(w):\n",
    "    listed_words = get_clean_data('new_valid_list_data/valid_listed_words')\n",
    "    for l in [i for i in listed_words.wordListId.unique() if i not in w]:\n",
    "        w[l] = listed_words[listed_words.wordListId==l].lcword.values\n",
    "    return w\n",
    "\n",
    "def update_listvecs(w, v, model):\n",
    "    for i in [i for i in w if i not in v]:\n",
    "        lst = [word for word in w[i] if word in model.wv.vocab]\n",
    "        if len(lst)>0:\n",
    "            v[i] = model.wv[lst].mean(axis=0)\n",
    "    return v\n",
    "\n",
    "def create_pickles(model):\n",
    "    w, v = intialize_listwords_listvecs()\n",
    "    w = update_listwords(w)\n",
    "    v = update_listvecs(w, v, model)\n",
    "    with open('wordlists.pickle', 'wb') as handle:\n",
    "        pickle.dump(w, handle, protocol=pickle.HIGHEST_PROTOCOL)\n",
    "    with open('listvecs.pickle', 'wb') as handle:\n",
    "        pickle.dump(v, handle, protocol=pickle.HIGHEST_PROTOCOL)"
   ]
  },
  {
   "cell_type": "code",
   "execution_count": 3,
   "metadata": {},
   "outputs": [],
   "source": [
    "model = gensim.models.KeyedVectors.load_word2vec_format('./model/wiki.en/wiki.en.vec', binary=False)"
   ]
  },
  {
   "cell_type": "code",
   "execution_count": 4,
   "metadata": {
    "scrolled": true
   },
   "outputs": [
    {
     "name": "stderr",
     "output_type": "stream",
     "text": [
      "/anaconda3/lib/python3.7/site-packages/ipykernel_launcher.py:40: DeprecationWarning: Call to deprecated `wv` (Attribute will be removed in 4.0.0, use self instead).\n"
     ]
    }
   ],
   "source": [
    "create_pickles(model)"
   ]
  }
 ],
 "metadata": {
  "kernelspec": {
   "display_name": "Python 3",
   "language": "python",
   "name": "python3"
  },
  "language_info": {
   "codemirror_mode": {
    "name": "ipython",
    "version": 3
   },
   "file_extension": ".py",
   "mimetype": "text/x-python",
   "name": "python",
   "nbconvert_exporter": "python",
   "pygments_lexer": "ipython3",
   "version": "3.7.3"
  }
 },
 "nbformat": 4,
 "nbformat_minor": 2
}
